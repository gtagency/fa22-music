{
 "cells": [
  {
   "cell_type": "markdown",
   "metadata": {
    "id": "0DH9bjZD_Cfi",
    "pycharm": {
     "name": "#%% md\n"
    }
   },
   "source": [
    "##### Copyright 2021 The TensorFlow Authors."
   ]
  },
  {
   "cell_type": "code",
   "execution_count": null,
   "metadata": {
    "cellView": "form",
    "execution": {
     "iopub.execute_input": "2022-06-28T01:21:16.335897Z",
     "iopub.status.busy": "2022-06-28T01:21:16.335346Z",
     "iopub.status.idle": "2022-06-28T01:21:16.338977Z",
     "shell.execute_reply": "2022-06-28T01:21:16.338483Z"
    },
    "id": "JO1GUwC1_T2x",
    "pycharm": {
     "name": "#%%\n"
    }
   },
   "outputs": [],
   "source": [
    "#@title Licensed under the Apache License, Version 2.0 (the \"License\");\n",
    "# you may not use this file except in compliance with the License.\n",
    "# You may obtain a copy of the License at\n",
    "#\n",
    "# https://www.apache.org/licenses/LICENSE-2.0\n",
    "#\n",
    "# Unless required by applicable law or agreed to in writing, software\n",
    "# distributed under the License is distributed on an \"AS IS\" BASIS,\n",
    "# WITHOUT WARRANTIES OR CONDITIONS OF ANY KIND, either express or implied.\n",
    "# See the License for the specific language governing permissions and\n",
    "# limitations under the License."
   ]
  },
  {
   "cell_type": "markdown",
   "metadata": {
    "id": "M4xOsFiu-1-c",
    "pycharm": {
     "name": "#%% md\n"
    }
   },
   "source": [
    "# Generate music with an RNN"
   ]
  },
  {
   "cell_type": "markdown",
   "metadata": {
    "id": "OyzAxV7Vu_9Y",
    "pycharm": {
     "name": "#%% md\n"
    }
   },
   "source": [
    "<table class=\"tfo-notebook-buttons\" align=\"left\">\n",
    "  <td>\n",
    "    <a target=\"_blank\" href=\"https://www.tensorflow.org/tutorials/audio/music_generation\"><img src=\"https://www.tensorflow.org/images/tf_logo_32px.png\" />View on TensorFlow.org</a>\n",
    "  </td>\n",
    "  <td>\n",
    "    <a target=\"_blank\" href=\"https://colab.research.google.com/github/tensorflow/docs/blob/master/site/en/tutorials/audio/music_generation.ipynb\"><img src=\"https://www.tensorflow.org/images/colab_logo_32px.png\" />Run in Google Colab</a>\n",
    "  </td>\n",
    "  <td>\n",
    "    <a target=\"_blank\" href=\"https://github.com/tensorflow/docs/blob/master/site/en/tutorials/audio/music_generation.ipynb\"><img src=\"https://www.tensorflow.org/images/GitHub-Mark-32px.png\" />View source on GitHub</a>\n",
    "  </td>\n",
    "  <td>\n",
    "    <a href=\"https://storage.googleapis.com/tensorflow_docs/docs/site/en/tutorials/audio/music_generation.ipynb\"><img src=\"https://www.tensorflow.org/images/download_logo_32px.png\" />Download notebook</a>\n",
    "  </td>\n",
    "</table>"
   ]
  },
  {
   "cell_type": "markdown",
   "metadata": {
    "id": "hr78EkAY-FFg",
    "pycharm": {
     "name": "#%% md\n"
    }
   },
   "source": [
    "This tutorial shows you how to generate musical notes using a simple recurrent neural network (RNN). You will train a model using a collection of piano MIDI files from the [MAESTRO dataset](https://magenta.tensorflow.org/datasets/maestro). Given a sequence of notes, your model will learn to predict the next note in the sequence. You can generate longer sequences of notes by calling the model repeatedly.\n",
    "\n",
    "This tutorial contains complete code to parse and create MIDI files. You can learn more about how RNNs work by visiting the [Text generation with an RNN](https://www.tensorflow.org/text/tutorials/text_generation) tutorial."
   ]
  },
  {
   "cell_type": "markdown",
   "metadata": {
    "id": "4ZniYb7Y_0Ey",
    "pycharm": {
     "name": "#%% md\n"
    }
   },
   "source": [
    "## Setup"
   ]
  },
  {
   "cell_type": "markdown",
   "metadata": {
    "id": "3ks8__E_WUGt",
    "pycharm": {
     "name": "#%% md\n"
    }
   },
   "source": [
    "This tutorial uses the [`pretty_midi`](https://github.com/craffel/pretty-midi) library to create and parse MIDI files, and [`pyfluidsynth`](https://github.com/nwhitehead/pyfluidsynth) for generating audio playback in Colab."
   ]
  },
  {
   "cell_type": "code",
   "execution_count": null,
   "metadata": {
    "execution": {
     "iopub.execute_input": "2022-06-28T01:21:16.342452Z",
     "iopub.status.busy": "2022-06-28T01:21:16.342098Z",
     "iopub.status.idle": "2022-06-28T01:21:40.320196Z",
     "shell.execute_reply": "2022-06-28T01:21:40.319441Z"
    },
    "id": "kahm6Z8v_TqC",
    "pycharm": {
     "name": "#%%\n"
    }
   },
   "outputs": [],
   "source": [
    "!sudo apt install -y fluidsynth"
   ]
  },
  {
   "cell_type": "code",
   "execution_count": null,
   "metadata": {
    "execution": {
     "iopub.execute_input": "2022-06-28T01:21:40.324376Z",
     "iopub.status.busy": "2022-06-28T01:21:40.323801Z",
     "iopub.status.idle": "2022-06-28T01:21:41.801408Z",
     "shell.execute_reply": "2022-06-28T01:21:41.800665Z"
    },
    "id": "M0lAReB7_Vqb",
    "pycharm": {
     "name": "#%%\n"
    }
   },
   "outputs": [],
   "source": [
    "!pip install --upgrade pyfluidsynth"
   ]
  },
  {
   "cell_type": "code",
   "execution_count": null,
   "metadata": {
    "execution": {
     "iopub.execute_input": "2022-06-28T01:21:41.805404Z",
     "iopub.status.busy": "2022-06-28T01:21:41.805129Z",
     "iopub.status.idle": "2022-06-28T01:21:46.616088Z",
     "shell.execute_reply": "2022-06-28T01:21:46.615318Z"
    },
    "id": "G46kKoQZmIa8",
    "pycharm": {
     "name": "#%%\n"
    }
   },
   "outputs": [],
   "source": [
    "!pip install pretty_midi"
   ]
  },
  {
   "cell_type": "code",
   "execution_count": null,
   "metadata": {
    "execution": {
     "iopub.execute_input": "2022-06-28T01:21:46.620135Z",
     "iopub.status.busy": "2022-06-28T01:21:46.619543Z",
     "iopub.status.idle": "2022-06-28T01:21:49.427271Z",
     "shell.execute_reply": "2022-06-28T01:21:49.426564Z"
    },
    "id": "GsLFq7nsiqcq",
    "pycharm": {
     "name": "#%%\n"
    }
   },
   "outputs": [],
   "source": [
    "import collections\n",
    "import datetime\n",
    "import fluidsynth\n",
    "import glob\n",
    "import numpy as np\n",
    "import pathlib\n",
    "import pandas as pd\n",
    "import pretty_midi\n",
    "import seaborn as sns\n",
    "import tensorflow as tf\n",
    "\n",
    "from IPython import display\n",
    "from matplotlib import pyplot as plt\n",
    "from typing import Dict, List, Optional, Sequence, Tuple"
   ]
  },
  {
   "cell_type": "code",
   "execution_count": null,
   "metadata": {
    "execution": {
     "iopub.execute_input": "2022-06-28T01:21:49.431547Z",
     "iopub.status.busy": "2022-06-28T01:21:49.431067Z",
     "iopub.status.idle": "2022-06-28T01:21:49.434898Z",
     "shell.execute_reply": "2022-06-28T01:21:49.434386Z"
    },
    "id": "Efja_OtJNzAM",
    "pycharm": {
     "name": "#%%\n"
    }
   },
   "outputs": [],
   "source": [
    "seed = 42\n",
    "tf.random.set_seed(seed)\n",
    "np.random.seed(seed)\n",
    "\n",
    "# Sampling rate for audio playback\n",
    "_SAMPLING_RATE = 16000"
   ]
  },
  {
   "cell_type": "markdown",
   "metadata": {
    "id": "FzIbfb-Ikgg7",
    "pycharm": {
     "name": "#%% md\n"
    }
   },
   "source": [
    "## Download the Maestro dataset"
   ]
  },
  {
   "cell_type": "code",
   "execution_count": null,
   "metadata": {
    "execution": {
     "iopub.execute_input": "2022-06-28T01:21:49.437747Z",
     "iopub.status.busy": "2022-06-28T01:21:49.437532Z",
     "iopub.status.idle": "2022-06-28T01:21:50.596965Z",
     "shell.execute_reply": "2022-06-28T01:21:50.596319Z"
    },
    "id": "mwja4SWmibrL",
    "pycharm": {
     "name": "#%%\n"
    }
   },
   "outputs": [],
   "source": [
    "data_dir = pathlib.Path('data/maestro-v2.0.0')\n",
    "if not data_dir.exists():\n",
    "  tf.keras.utils.get_file(\n",
    "      'maestro-v2.0.0-midi.zip',\n",
    "      origin='https://storage.googleapis.com/magentadata/datasets/maestro/v2.0.0/maestro-v2.0.0-midi.zip',\n",
    "      extract=True,\n",
    "      cache_dir='.', cache_subdir='data',\n",
    "  )"
   ]
  },
  {
   "cell_type": "markdown",
   "metadata": {
    "id": "k7UYBSxcINqJ",
    "pycharm": {
     "name": "#%% md\n"
    }
   },
   "source": [
    "The dataset contains about 1,200 MIDI files."
   ]
  },
  {
   "cell_type": "code",
   "execution_count": null,
   "metadata": {
    "execution": {
     "iopub.execute_input": "2022-06-28T01:21:50.600561Z",
     "iopub.status.busy": "2022-06-28T01:21:50.600315Z",
     "iopub.status.idle": "2022-06-28T01:21:50.609179Z",
     "shell.execute_reply": "2022-06-28T01:21:50.608626Z"
    },
    "id": "72iFI1bPB9o1",
    "pycharm": {
     "name": "#%%\n"
    }
   },
   "outputs": [],
   "source": [
    "filenames = glob.glob(str(data_dir/'**/*.mid*'))\n",
    "print('Number of files:', len(filenames))"
   ]
  },
  {
   "cell_type": "markdown",
   "metadata": {
    "id": "8BlRafYDIRgA",
    "pycharm": {
     "name": "#%% md\n"
    }
   },
   "source": [
    "## Process a MIDI file"
   ]
  },
  {
   "cell_type": "markdown",
   "metadata": {
    "id": "oFsmG87gXSbh",
    "pycharm": {
     "name": "#%% md\n"
    }
   },
   "source": [
    "First, use ```pretty_midi``` to parse a single MIDI file and inspect the format of the notes. If you would like to download the MIDI file below to play on your computer, you can do so in colab by writing ```files.download(sample_file)```.\n"
   ]
  },
  {
   "cell_type": "code",
   "execution_count": null,
   "metadata": {
    "execution": {
     "iopub.execute_input": "2022-06-28T01:21:50.612351Z",
     "iopub.status.busy": "2022-06-28T01:21:50.611858Z",
     "iopub.status.idle": "2022-06-28T01:21:50.615238Z",
     "shell.execute_reply": "2022-06-28T01:21:50.614726Z"
    },
    "id": "6oSCbHvJNbci",
    "pycharm": {
     "name": "#%%\n"
    }
   },
   "outputs": [],
   "source": [
    "sample_file = filenames[1]\n",
    "print(sample_file)"
   ]
  },
  {
   "cell_type": "markdown",
   "metadata": {
    "id": "A48VdGEpXnLp",
    "pycharm": {
     "name": "#%% md\n"
    }
   },
   "source": [
    "Generate a `PrettyMIDI` object for the sample MIDI file."
   ]
  },
  {
   "cell_type": "code",
   "execution_count": null,
   "metadata": {
    "execution": {
     "iopub.execute_input": "2022-06-28T01:21:50.618268Z",
     "iopub.status.busy": "2022-06-28T01:21:50.617777Z",
     "iopub.status.idle": "2022-06-28T01:21:50.755488Z",
     "shell.execute_reply": "2022-06-28T01:21:50.754875Z"
    },
    "id": "1YSQ5DjRI2md",
    "pycharm": {
     "name": "#%%\n"
    }
   },
   "outputs": [],
   "source": [
    "pm = pretty_midi.PrettyMIDI(sample_file)"
   ]
  },
  {
   "cell_type": "markdown",
   "metadata": {
    "id": "FZNVsZuA_lef",
    "pycharm": {
     "name": "#%% md\n"
    }
   },
   "source": [
    "Play the sample file. The playback widget may take several seconds to load."
   ]
  },
  {
   "cell_type": "code",
   "execution_count": null,
   "metadata": {
    "execution": {
     "iopub.execute_input": "2022-06-28T01:21:50.759144Z",
     "iopub.status.busy": "2022-06-28T01:21:50.758654Z",
     "iopub.status.idle": "2022-06-28T01:21:50.762402Z",
     "shell.execute_reply": "2022-06-28T01:21:50.761838Z"
    },
    "id": "vzoHAaVY_kyY",
    "pycharm": {
     "name": "#%%\n"
    }
   },
   "outputs": [],
   "source": [
    "def display_audio(pm: pretty_midi.PrettyMIDI, seconds=30):\n",
    "  waveform = pm.fluidsynth(fs=_SAMPLING_RATE)\n",
    "  # Take a sample of the generated waveform to mitigate kernel resets\n",
    "  waveform_short = waveform[:seconds*_SAMPLING_RATE]\n",
    "  return display.Audio(waveform_short, rate=_SAMPLING_RATE)"
   ]
  },
  {
   "cell_type": "code",
   "execution_count": null,
   "metadata": {
    "execution": {
     "iopub.execute_input": "2022-06-28T01:21:50.765582Z",
     "iopub.status.busy": "2022-06-28T01:21:50.765092Z",
     "iopub.status.idle": "2022-06-28T01:21:53.519298Z",
     "shell.execute_reply": "2022-06-28T01:21:53.518604Z"
    },
    "id": "GOe-3AAi_sRw",
    "pycharm": {
     "name": "#%%\n"
    }
   },
   "outputs": [],
   "source": [
    "display_audio(pm)"
   ]
  },
  {
   "cell_type": "markdown",
   "metadata": {
    "id": "7Lqe7nOsIyh1",
    "pycharm": {
     "name": "#%% md\n"
    }
   },
   "source": [
    "Do some inspection on the MIDI file. What kinds of instruments are used?"
   ]
  },
  {
   "cell_type": "code",
   "execution_count": null,
   "metadata": {
    "execution": {
     "iopub.execute_input": "2022-06-28T01:21:53.537154Z",
     "iopub.status.busy": "2022-06-28T01:21:53.536907Z",
     "iopub.status.idle": "2022-06-28T01:21:53.541390Z",
     "shell.execute_reply": "2022-06-28T01:21:53.540798Z"
    },
    "id": "SIGHYQPZQnRo",
    "pycharm": {
     "name": "#%%\n"
    }
   },
   "outputs": [],
   "source": [
    "print('Number of instruments:', len(pm.instruments))\n",
    "instrument = pm.instruments[0]\n",
    "instrument_name = pretty_midi.program_to_instrument_name(instrument.program)\n",
    "print('Instrument name:', instrument_name)"
   ]
  },
  {
   "cell_type": "markdown",
   "metadata": {
    "id": "KVQfV2hVKB28",
    "pycharm": {
     "name": "#%% md\n"
    }
   },
   "source": [
    "## Extract notes"
   ]
  },
  {
   "cell_type": "code",
   "execution_count": null,
   "metadata": {
    "execution": {
     "iopub.execute_input": "2022-06-28T01:21:53.544433Z",
     "iopub.status.busy": "2022-06-28T01:21:53.543933Z",
     "iopub.status.idle": "2022-06-28T01:21:53.547869Z",
     "shell.execute_reply": "2022-06-28T01:21:53.547339Z"
    },
    "id": "nYZm_VehYOTZ",
    "pycharm": {
     "name": "#%%\n"
    }
   },
   "outputs": [],
   "source": [
    "for i, note in enumerate(instrument.notes[:10]):\n",
    "  note_name = pretty_midi.note_number_to_name(note.pitch)\n",
    "  duration = note.end - note.start\n",
    "  print(f'{i}: pitch={note.pitch}, note_name={note_name},'\n",
    "        f' duration={duration:.4f}')"
   ]
  },
  {
   "cell_type": "markdown",
   "metadata": {
    "id": "jutzynyqX_GC",
    "pycharm": {
     "name": "#%% md\n"
    }
   },
   "source": [
    "You will use three variables to represent a note when training the model: `pitch`, `step` and `duration`. The pitch is the perceptual quality of the sound as a MIDI note number. \n",
    "The `step` is the time elapsed from the previous note or start of the track.\n",
    "The `duration` is how long the note will be playing in seconds and is the difference between the note end and note start times. \n"
   ]
  },
  {
   "cell_type": "markdown",
   "metadata": {
    "id": "KGn7Juv_PTi6",
    "pycharm": {
     "name": "#%% md\n"
    }
   },
   "source": [
    "Extract the notes from the sample MIDI file."
   ]
  },
  {
   "cell_type": "code",
   "execution_count": null,
   "metadata": {
    "execution": {
     "iopub.execute_input": "2022-06-28T01:21:53.551148Z",
     "iopub.status.busy": "2022-06-28T01:21:53.550596Z",
     "iopub.status.idle": "2022-06-28T01:21:53.555943Z",
     "shell.execute_reply": "2022-06-28T01:21:53.555403Z"
    },
    "id": "Wyp_wdcEPWby",
    "pycharm": {
     "name": "#%%\n"
    }
   },
   "outputs": [],
   "source": [
    "def midi_to_notes(midi_file: str) -> pd.DataFrame:\n",
    "  pm = pretty_midi.PrettyMIDI(midi_file)\n",
    "  instrument = pm.instruments[0]\n",
    "  notes = collections.defaultdict(list)\n",
    "\n",
    "  # Sort the notes by start time\n",
    "  sorted_notes = sorted(instrument.notes, key=lambda note: note.start)\n",
    "  prev_start = sorted_notes[0].start\n",
    "\n",
    "  for note in sorted_notes:\n",
    "    start = note.start\n",
    "    end = note.end\n",
    "    notes['pitch'].append(note.pitch)\n",
    "    notes['start'].append(start)\n",
    "    notes['end'].append(end)\n",
    "    notes['step'].append(start - prev_start)\n",
    "    notes['duration'].append(end - start)\n",
    "    prev_start = start\n",
    "\n",
    "  return pd.DataFrame({name: np.array(value) for name, value in notes.items()})"
   ]
  },
  {
   "cell_type": "code",
   "execution_count": null,
   "metadata": {
    "execution": {
     "iopub.execute_input": "2022-06-28T01:21:53.558742Z",
     "iopub.status.busy": "2022-06-28T01:21:53.558291Z",
     "iopub.status.idle": "2022-06-28T01:21:53.701187Z",
     "shell.execute_reply": "2022-06-28T01:21:53.700579Z"
    },
    "id": "X0kPjLBlcnY6",
    "pycharm": {
     "name": "#%%\n"
    }
   },
   "outputs": [],
   "source": [
    "raw_notes = midi_to_notes(sample_file)\n",
    "raw_notes.head()"
   ]
  },
  {
   "cell_type": "markdown",
   "metadata": {
    "id": "-71LPvjubOSO",
    "pycharm": {
     "name": "#%% md\n"
    }
   },
   "source": [
    "It may be easier to interpret the note names rather than the pitches, so you can use the function below to convert from the numeric pitch values to note names. \n",
    "The note name shows the type of note, accidental and octave number\n",
    "(e.g. C#4). "
   ]
  },
  {
   "cell_type": "code",
   "execution_count": null,
   "metadata": {
    "execution": {
     "iopub.execute_input": "2022-06-28T01:21:53.704205Z",
     "iopub.status.busy": "2022-06-28T01:21:53.703936Z",
     "iopub.status.idle": "2022-06-28T01:21:53.729487Z",
     "shell.execute_reply": "2022-06-28T01:21:53.728950Z"
    },
    "id": "WE9YXrGZbY2X",
    "pycharm": {
     "name": "#%%\n"
    }
   },
   "outputs": [],
   "source": [
    "get_note_names = np.vectorize(pretty_midi.note_number_to_name)\n",
    "sample_note_names = get_note_names(raw_notes['pitch'])\n",
    "sample_note_names[:10]"
   ]
  },
  {
   "cell_type": "markdown",
   "metadata": {
    "id": "Q7sjqbp1e_f-",
    "pycharm": {
     "name": "#%% md\n"
    }
   },
   "source": [
    "To visualize the musical piece, plot the note pitch, start and end across the length of the track (i.e. piano roll). Start with the first 100 notes"
   ]
  },
  {
   "cell_type": "code",
   "execution_count": null,
   "metadata": {
    "execution": {
     "iopub.execute_input": "2022-06-28T01:21:53.732648Z",
     "iopub.status.busy": "2022-06-28T01:21:53.732105Z",
     "iopub.status.idle": "2022-06-28T01:21:53.736915Z",
     "shell.execute_reply": "2022-06-28T01:21:53.736425Z"
    },
    "id": "liD2N7x_WOTp",
    "pycharm": {
     "name": "#%%\n"
    }
   },
   "outputs": [],
   "source": [
    "def plot_piano_roll(notes: pd.DataFrame, count: Optional[int] = None):\n",
    "  if count:\n",
    "    title = f'First {count} notes'\n",
    "  else:\n",
    "    title = f'Whole track'\n",
    "    count = len(notes['pitch'])\n",
    "  plt.figure(figsize=(20, 4))\n",
    "  plot_pitch = np.stack([notes['pitch'], notes['pitch']], axis=0)\n",
    "  plot_start_stop = np.stack([notes['start'], notes['end']], axis=0)\n",
    "  plt.plot(\n",
    "      plot_start_stop[:, :count], plot_pitch[:, :count], color=\"b\", marker=\".\")\n",
    "  plt.xlabel('Time [s]')\n",
    "  plt.ylabel('Pitch')\n",
    "  _ = plt.title(title)"
   ]
  },
  {
   "cell_type": "code",
   "execution_count": null,
   "metadata": {
    "execution": {
     "iopub.execute_input": "2022-06-28T01:21:53.739586Z",
     "iopub.status.busy": "2022-06-28T01:21:53.739360Z",
     "iopub.status.idle": "2022-06-28T01:21:53.994584Z",
     "shell.execute_reply": "2022-06-28T01:21:53.993977Z"
    },
    "id": "vWeUbqmAXjOs",
    "pycharm": {
     "name": "#%%\n"
    }
   },
   "outputs": [],
   "source": [
    "plot_piano_roll(raw_notes, count=100)"
   ]
  },
  {
   "cell_type": "markdown",
   "metadata": {
    "id": "gcUyCXYhXeVA",
    "pycharm": {
     "name": "#%% md\n"
    }
   },
   "source": [
    "Plot the notes for the entire track."
   ]
  },
  {
   "cell_type": "code",
   "execution_count": null,
   "metadata": {
    "execution": {
     "iopub.execute_input": "2022-06-28T01:21:53.997593Z",
     "iopub.status.busy": "2022-06-28T01:21:53.997358Z",
     "iopub.status.idle": "2022-06-28T01:21:58.361176Z",
     "shell.execute_reply": "2022-06-28T01:21:58.360442Z"
    },
    "id": "G7l76hEDZX8Z",
    "pycharm": {
     "name": "#%%\n"
    }
   },
   "outputs": [],
   "source": [
    "plot_piano_roll(raw_notes)"
   ]
  },
  {
   "cell_type": "markdown",
   "metadata": {
    "id": "5GM1bi3aX8rd",
    "pycharm": {
     "name": "#%% md\n"
    }
   },
   "source": [
    "Check the distribution of each note variable."
   ]
  },
  {
   "cell_type": "code",
   "execution_count": null,
   "metadata": {
    "execution": {
     "iopub.execute_input": "2022-06-28T01:21:58.365098Z",
     "iopub.status.busy": "2022-06-28T01:21:58.364569Z",
     "iopub.status.idle": "2022-06-28T01:21:58.369422Z",
     "shell.execute_reply": "2022-06-28T01:21:58.368863Z"
    },
    "id": "Pq9C9XBBaK7W",
    "pycharm": {
     "name": "#%%\n"
    }
   },
   "outputs": [],
   "source": [
    "def plot_distributions(notes: pd.DataFrame, drop_percentile=2.5):\n",
    "  plt.figure(figsize=[15, 5])\n",
    "  plt.subplot(1, 3, 1)\n",
    "  sns.histplot(notes, x=\"pitch\", bins=20)\n",
    "\n",
    "  plt.subplot(1, 3, 2)\n",
    "  max_step = np.percentile(notes['step'], 100 - drop_percentile)\n",
    "  sns.histplot(notes, x=\"step\", bins=np.linspace(0, max_step, 21))\n",
    "  \n",
    "  plt.subplot(1, 3, 3)\n",
    "  max_duration = np.percentile(notes['duration'], 100 - drop_percentile)\n",
    "  sns.histplot(notes, x=\"duration\", bins=np.linspace(0, max_duration, 21))"
   ]
  },
  {
   "cell_type": "code",
   "execution_count": null,
   "metadata": {
    "execution": {
     "iopub.execute_input": "2022-06-28T01:21:58.372665Z",
     "iopub.status.busy": "2022-06-28T01:21:58.372093Z",
     "iopub.status.idle": "2022-06-28T01:21:58.695913Z",
     "shell.execute_reply": "2022-06-28T01:21:58.695301Z"
    },
    "id": "-Nu2Pw24acFD",
    "pycharm": {
     "name": "#%%\n"
    }
   },
   "outputs": [],
   "source": [
    "plot_distributions(raw_notes)"
   ]
  },
  {
   "cell_type": "markdown",
   "metadata": {
    "id": "poIivompcfS4",
    "pycharm": {
     "name": "#%% md\n"
    }
   },
   "source": [
    "## Create a MIDI file\n",
    "\n",
    "You can generate your own MIDI file from a list of notes using the function below."
   ]
  },
  {
   "cell_type": "code",
   "execution_count": null,
   "metadata": {
    "execution": {
     "iopub.execute_input": "2022-06-28T01:21:58.699250Z",
     "iopub.status.busy": "2022-06-28T01:21:58.698720Z",
     "iopub.status.idle": "2022-06-28T01:21:58.703904Z",
     "shell.execute_reply": "2022-06-28T01:21:58.703283Z"
    },
    "id": "BD5rsMRARYoV",
    "pycharm": {
     "name": "#%%\n"
    }
   },
   "outputs": [],
   "source": [
    "def notes_to_midi(\n",
    "  notes: pd.DataFrame,\n",
    "  out_file: str, \n",
    "  instrument_name: str,\n",
    "  velocity: int = 100,  # note loudness\n",
    ") -> pretty_midi.PrettyMIDI:\n",
    "\n",
    "  pm = pretty_midi.PrettyMIDI()\n",
    "  instrument = pretty_midi.Instrument(\n",
    "      program=pretty_midi.instrument_name_to_program(\n",
    "          instrument_name))\n",
    "\n",
    "  prev_start = 0\n",
    "  for i, note in notes.iterrows():\n",
    "    start = float(prev_start + note['step'])\n",
    "    end = float(start + note['duration'])\n",
    "    note = pretty_midi.Note(\n",
    "        velocity=velocity,\n",
    "        pitch=int(note['pitch']),\n",
    "        start=start,\n",
    "        end=end,\n",
    "    )\n",
    "    instrument.notes.append(note)\n",
    "    prev_start = start\n",
    "\n",
    "  pm.instruments.append(instrument)\n",
    "  pm.write(out_file)\n",
    "  return pm"
   ]
  },
  {
   "cell_type": "code",
   "execution_count": null,
   "metadata": {
    "execution": {
     "iopub.execute_input": "2022-06-28T01:21:58.706874Z",
     "iopub.status.busy": "2022-06-28T01:21:58.706397Z",
     "iopub.status.idle": "2022-06-28T01:21:59.126506Z",
     "shell.execute_reply": "2022-06-28T01:21:59.125888Z"
    },
    "id": "wTazLbuWPIPF",
    "pycharm": {
     "name": "#%%\n"
    }
   },
   "outputs": [],
   "source": [
    "example_file = 'example.midi'\n",
    "example_pm = notes_to_midi(\n",
    "    raw_notes, out_file=example_file, instrument_name=instrument_name)"
   ]
  },
  {
   "cell_type": "markdown",
   "metadata": {
    "id": "XG0N9zZV_4Gp",
    "pycharm": {
     "name": "#%% md\n"
    }
   },
   "source": [
    "Play the generated MIDI file and see if there is any difference."
   ]
  },
  {
   "cell_type": "code",
   "execution_count": null,
   "metadata": {
    "execution": {
     "iopub.execute_input": "2022-06-28T01:21:59.130418Z",
     "iopub.status.busy": "2022-06-28T01:21:59.129827Z",
     "iopub.status.idle": "2022-06-28T01:22:01.907169Z",
     "shell.execute_reply": "2022-06-28T01:22:01.906551Z"
    },
    "id": "fGRLs-eR_4uK",
    "pycharm": {
     "name": "#%%\n"
    }
   },
   "outputs": [],
   "source": [
    "display_audio(example_pm)"
   ]
  },
  {
   "cell_type": "markdown",
   "metadata": {
    "id": "CLrUscjhBzYc",
    "pycharm": {
     "name": "#%% md\n"
    }
   },
   "source": [
    "As before, you can write ```files.download(example_file)``` to download and play this file."
   ]
  },
  {
   "cell_type": "markdown",
   "metadata": {
    "id": "pfRNk9tEScuf",
    "pycharm": {
     "name": "#%% md\n"
    }
   },
   "source": [
    "## Create the training dataset\n"
   ]
  },
  {
   "cell_type": "markdown",
   "metadata": {
    "id": "b77zHR1udDrK",
    "pycharm": {
     "name": "#%% md\n"
    }
   },
   "source": [
    "Create the training dataset by extracting notes from the MIDI files. You can start by using a small number of files, and experiment later with more. This may take a couple minutes."
   ]
  },
  {
   "cell_type": "code",
   "execution_count": null,
   "metadata": {
    "execution": {
     "iopub.execute_input": "2022-06-28T01:22:01.926726Z",
     "iopub.status.busy": "2022-06-28T01:22:01.926003Z",
     "iopub.status.idle": "2022-06-28T01:22:02.732087Z",
     "shell.execute_reply": "2022-06-28T01:22:02.731438Z"
    },
    "id": "GiaQiTnXSW-T",
    "pycharm": {
     "name": "#%%\n"
    }
   },
   "outputs": [],
   "source": [
    "num_files = 5\n",
    "all_notes = []\n",
    "for f in filenames[:num_files]:\n",
    "  notes = midi_to_notes(f)\n",
    "  all_notes.append(notes)\n",
    "\n",
    "all_notes = pd.concat(all_notes)"
   ]
  },
  {
   "cell_type": "code",
   "execution_count": null,
   "metadata": {
    "execution": {
     "iopub.execute_input": "2022-06-28T01:22:02.735963Z",
     "iopub.status.busy": "2022-06-28T01:22:02.735714Z",
     "iopub.status.idle": "2022-06-28T01:22:02.739250Z",
     "shell.execute_reply": "2022-06-28T01:22:02.738659Z"
    },
    "id": "F4bMDeRvgWqx",
    "pycharm": {
     "name": "#%%\n"
    }
   },
   "outputs": [],
   "source": [
    "n_notes = len(all_notes)\n",
    "print('Number of notes parsed:', n_notes)"
   ]
  },
  {
   "cell_type": "markdown",
   "metadata": {
    "id": "xIBLvj-cODWS",
    "pycharm": {
     "name": "#%% md\n"
    }
   },
   "source": [
    "Next, create a `tf.data.Dataset` from the parsed notes."
   ]
  },
  {
   "cell_type": "code",
   "execution_count": null,
   "metadata": {
    "execution": {
     "iopub.execute_input": "2022-06-28T01:22:02.742494Z",
     "iopub.status.busy": "2022-06-28T01:22:02.741997Z",
     "iopub.status.idle": "2022-06-28T01:22:02.745893Z",
     "shell.execute_reply": "2022-06-28T01:22:02.745366Z"
    },
    "id": "mvNHCHZdXG2P",
    "pycharm": {
     "name": "#%%\n"
    }
   },
   "outputs": [],
   "source": [
    "key_order = ['pitch', 'step', 'duration']\n",
    "train_notes = np.stack([all_notes[key] for key in key_order], axis=1)"
   ]
  },
  {
   "cell_type": "code",
   "execution_count": null,
   "metadata": {
    "execution": {
     "iopub.execute_input": "2022-06-28T01:22:02.748793Z",
     "iopub.status.busy": "2022-06-28T01:22:02.748321Z",
     "iopub.status.idle": "2022-06-28T01:22:05.718819Z",
     "shell.execute_reply": "2022-06-28T01:22:05.718251Z"
    },
    "id": "PLC_19tshyFk",
    "pycharm": {
     "name": "#%%\n"
    }
   },
   "outputs": [],
   "source": [
    "notes_ds = tf.data.Dataset.from_tensor_slices(train_notes)\n",
    "notes_ds.element_spec"
   ]
  },
  {
   "cell_type": "markdown",
   "metadata": {
    "id": "Sj9SXRCjt3I7",
    "pycharm": {
     "name": "#%% md\n"
    }
   },
   "source": [
    "You will train the model on batches of sequences of notes. Each example will consist of a sequence of notes as the input features, and the next note as the label. In this way, the model will be trained to predict the next note in a sequence. You can find a diagram describing this process (and more details) in [Text classification with an RNN](https://www.tensorflow.org/text/tutorials/text_generation).\n",
    "\n",
    "You can use the handy [window](https://www.tensorflow.org/api_docs/python/tf/data/Dataset#window) function with size `seq_length` to create the features and labels in this format."
   ]
  },
  {
   "cell_type": "code",
   "execution_count": null,
   "metadata": {
    "execution": {
     "iopub.execute_input": "2022-06-28T01:22:05.722272Z",
     "iopub.status.busy": "2022-06-28T01:22:05.721706Z",
     "iopub.status.idle": "2022-06-28T01:22:05.727520Z",
     "shell.execute_reply": "2022-06-28T01:22:05.726965Z"
    },
    "id": "ZkEC-5s6wJJV",
    "pycharm": {
     "name": "#%%\n"
    }
   },
   "outputs": [],
   "source": [
    "def create_sequences(\n",
    "    dataset: tf.data.Dataset, \n",
    "    seq_length: int,\n",
    "    vocab_size = 128,\n",
    ") -> tf.data.Dataset:\n",
    "  \"\"\"Returns TF Dataset of sequence and label examples.\"\"\"\n",
    "  seq_length = seq_length+1\n",
    "\n",
    "  # Take 1 extra for the labels\n",
    "  windows = dataset.window(seq_length, shift=1, stride=1,\n",
    "                              drop_remainder=True)\n",
    "\n",
    "  # `flat_map` flattens the\" dataset of datasets\" into a dataset of tensors\n",
    "  flatten = lambda x: x.batch(seq_length, drop_remainder=True)\n",
    "  sequences = windows.flat_map(flatten)\n",
    "  \n",
    "  # Normalize note pitch\n",
    "  def scale_pitch(x):\n",
    "    x = x/[vocab_size,1.0,1.0]\n",
    "    return x\n",
    "\n",
    "  # Split the labels\n",
    "  def split_labels(sequences):\n",
    "    inputs = sequences[:-1]\n",
    "    labels_dense = sequences[-1]\n",
    "    labels = {key:labels_dense[i] for i,key in enumerate(key_order)}\n",
    "\n",
    "    return scale_pitch(inputs), labels\n",
    "\n",
    "  return sequences.map(split_labels, num_parallel_calls=tf.data.AUTOTUNE)"
   ]
  },
  {
   "cell_type": "markdown",
   "metadata": {
    "id": "2xDX5pVkegrv",
    "pycharm": {
     "name": "#%% md\n"
    }
   },
   "source": [
    "Set the sequence length for each example. Experiment with different lengths (e.g. 50, 100, 150) to see which one works best for the data, or use [hyperparameter tuning](https://www.tensorflow.org/tutorials/keras/keras_tuner). The size of the vocabulary (`vocab_size`) is set to 128 representing all the pitches supported by `pretty_midi`."
   ]
  },
  {
   "cell_type": "code",
   "execution_count": null,
   "metadata": {
    "execution": {
     "iopub.execute_input": "2022-06-28T01:22:05.730515Z",
     "iopub.status.busy": "2022-06-28T01:22:05.730038Z",
     "iopub.status.idle": "2022-06-28T01:22:05.825269Z",
     "shell.execute_reply": "2022-06-28T01:22:05.824673Z"
    },
    "id": "fGA3VxcFXZ4T",
    "pycharm": {
     "name": "#%%\n"
    }
   },
   "outputs": [],
   "source": [
    "seq_length = 25\n",
    "vocab_size = 128\n",
    "seq_ds = create_sequences(notes_ds, seq_length, vocab_size)\n",
    "seq_ds.element_spec"
   ]
  },
  {
   "cell_type": "markdown",
   "metadata": {
    "id": "AX9nKmSYetGo",
    "pycharm": {
     "name": "#%% md\n"
    }
   },
   "source": [
    "The shape of the dataset is ```(100,1)```, meaning that the model will take 100 notes as input, and learn to predict the following note as output."
   ]
  },
  {
   "cell_type": "code",
   "execution_count": null,
   "metadata": {
    "execution": {
     "iopub.execute_input": "2022-06-28T01:22:05.828822Z",
     "iopub.status.busy": "2022-06-28T01:22:05.828249Z",
     "iopub.status.idle": "2022-06-28T01:22:05.863476Z",
     "shell.execute_reply": "2022-06-28T01:22:05.862849Z"
    },
    "id": "ESK9cL7__TF3",
    "pycharm": {
     "name": "#%%\n"
    }
   },
   "outputs": [],
   "source": [
    "for seq, target in seq_ds.take(1):\n",
    "  print('sequence shape:', seq.shape)\n",
    "  print('sequence elements (first 10):', seq[0: 10])\n",
    "  print()\n",
    "  print('target:', target)"
   ]
  },
  {
   "cell_type": "markdown",
   "metadata": {
    "id": "kR3TVZZGk5Qq",
    "pycharm": {
     "name": "#%% md\n"
    }
   },
   "source": [
    "Batch the examples, and configure the dataset for performance."
   ]
  },
  {
   "cell_type": "code",
   "execution_count": null,
   "metadata": {
    "execution": {
     "iopub.execute_input": "2022-06-28T01:22:05.866812Z",
     "iopub.status.busy": "2022-06-28T01:22:05.866296Z",
     "iopub.status.idle": "2022-06-28T01:22:05.873164Z",
     "shell.execute_reply": "2022-06-28T01:22:05.872612Z"
    },
    "id": "fTpFoiM_AV_Y",
    "pycharm": {
     "name": "#%%\n"
    }
   },
   "outputs": [],
   "source": [
    "batch_size = 64\n",
    "buffer_size = n_notes - seq_length  # the number of items in the dataset\n",
    "train_ds = (seq_ds\n",
    "            .shuffle(buffer_size)\n",
    "            .batch(batch_size, drop_remainder=True)\n",
    "            .cache()\n",
    "            .prefetch(tf.data.experimental.AUTOTUNE))"
   ]
  },
  {
   "cell_type": "code",
   "execution_count": null,
   "metadata": {
    "execution": {
     "iopub.execute_input": "2022-06-28T01:22:05.876182Z",
     "iopub.status.busy": "2022-06-28T01:22:05.875916Z",
     "iopub.status.idle": "2022-06-28T01:22:05.879796Z",
     "shell.execute_reply": "2022-06-28T01:22:05.879185Z"
    },
    "id": "LySbjV0GzXQu",
    "pycharm": {
     "name": "#%%\n"
    }
   },
   "outputs": [],
   "source": [
    "train_ds.element_spec"
   ]
  },
  {
   "cell_type": "markdown",
   "metadata": {
    "id": "cWZmfkshqP8G",
    "pycharm": {
     "name": "#%% md\n"
    }
   },
   "source": [
    "## Create and train the model"
   ]
  },
  {
   "cell_type": "markdown",
   "metadata": {
    "id": "iGQn32q-hdK2",
    "pycharm": {
     "name": "#%% md\n"
    }
   },
   "source": [
    "The model will have three outputs, one for each note variable. For `step` and `duration`, you will use a custom loss function based on mean squared error that encourages the model to output non-negative values."
   ]
  },
  {
   "cell_type": "code",
   "execution_count": null,
   "metadata": {
    "execution": {
     "iopub.execute_input": "2022-06-28T01:22:05.882677Z",
     "iopub.status.busy": "2022-06-28T01:22:05.882301Z",
     "iopub.status.idle": "2022-06-28T01:22:05.885756Z",
     "shell.execute_reply": "2022-06-28T01:22:05.885250Z"
    },
    "id": "erxLOif08e8v",
    "pycharm": {
     "name": "#%%\n"
    }
   },
   "outputs": [],
   "source": [
    "def mse_with_positive_pressure(y_true: tf.Tensor, y_pred: tf.Tensor):\n",
    "  mse = (y_true - y_pred) ** 2\n",
    "  positive_pressure = 10 * tf.maximum(-y_pred, 0.0)\n",
    "  return tf.reduce_mean(mse + positive_pressure)"
   ]
  },
  {
   "cell_type": "code",
   "execution_count": null,
   "metadata": {
    "execution": {
     "iopub.execute_input": "2022-06-28T01:22:05.888632Z",
     "iopub.status.busy": "2022-06-28T01:22:05.888186Z",
     "iopub.status.idle": "2022-06-28T01:22:06.128851Z",
     "shell.execute_reply": "2022-06-28T01:22:06.128257Z"
    },
    "id": "kNaVWcCzAm5V",
    "pycharm": {
     "name": "#%%\n"
    }
   },
   "outputs": [],
   "source": [
    "input_shape = (seq_length, 3)\n",
    "learning_rate = 0.005\n",
    "\n",
    "inputs = tf.keras.Input(input_shape)\n",
    "x = tf.keras.layers.LSTM(128)(inputs)\n",
    "\n",
    "outputs = {\n",
    "  'pitch': tf.keras.layers.Dense(128, name='pitch')(x),\n",
    "  'step': tf.keras.layers.Dense(1, name='step')(x),\n",
    "  'duration': tf.keras.layers.Dense(1, name='duration')(x),\n",
    "}\n",
    "\n",
    "model = tf.keras.Model(inputs, outputs)\n",
    "\n",
    "loss = {\n",
    "      'pitch': tf.keras.losses.SparseCategoricalCrossentropy(\n",
    "          from_logits=True),\n",
    "      'step': mse_with_positive_pressure,\n",
    "      'duration': mse_with_positive_pressure,\n",
    "}\n",
    "\n",
    "optimizer = tf.keras.optimizers.Adam(learning_rate=learning_rate)\n",
    "\n",
    "model.compile(loss=loss, optimizer=optimizer)\n",
    "\n",
    "model.summary()"
   ]
  },
  {
   "cell_type": "markdown",
   "metadata": {
    "id": "VDL0Jypt3eU5",
    "pycharm": {
     "name": "#%% md\n"
    }
   },
   "source": [
    "Testing the `model.evaluate` function, you can see that the `pitch` loss is significantly greater than the `step` and `duration` losses. \n",
    "Note that `loss` is the total loss computed by summing all the other losses and is currently dominated by the `pitch` loss."
   ]
  },
  {
   "cell_type": "code",
   "execution_count": null,
   "metadata": {
    "execution": {
     "iopub.execute_input": "2022-06-28T01:22:06.135633Z",
     "iopub.status.busy": "2022-06-28T01:22:06.135065Z",
     "iopub.status.idle": "2022-06-28T01:22:12.045769Z",
     "shell.execute_reply": "2022-06-28T01:22:12.044994Z"
    },
    "id": "BlATt7Rl0XJl",
    "pycharm": {
     "name": "#%%\n"
    }
   },
   "outputs": [],
   "source": [
    "losses = model.evaluate(train_ds, return_dict=True)\n",
    "losses"
   ]
  },
  {
   "cell_type": "markdown",
   "metadata": {
    "id": "KLvNLvtR3W59",
    "pycharm": {
     "name": "#%% md\n"
    }
   },
   "source": [
    "One way balance this is to use the `loss_weights` argument to compile:"
   ]
  },
  {
   "cell_type": "code",
   "execution_count": null,
   "metadata": {
    "execution": {
     "iopub.execute_input": "2022-06-28T01:22:12.049459Z",
     "iopub.status.busy": "2022-06-28T01:22:12.048936Z",
     "iopub.status.idle": "2022-06-28T01:22:12.056686Z",
     "shell.execute_reply": "2022-06-28T01:22:12.056067Z"
    },
    "id": "9fQB5SiN3ufX",
    "pycharm": {
     "name": "#%%\n"
    }
   },
   "outputs": [],
   "source": [
    "model.compile(\n",
    "    loss=loss,\n",
    "    loss_weights={\n",
    "        'pitch': 0.05,\n",
    "        'step': 1.0,\n",
    "        'duration':1.0,\n",
    "    },\n",
    "    optimizer=optimizer,\n",
    ")"
   ]
  },
  {
   "cell_type": "markdown",
   "metadata": {
    "id": "nPMUnIMelHgR",
    "pycharm": {
     "name": "#%% md\n"
    }
   },
   "source": [
    "The `loss` then becomes the weighted sum of the individual losses."
   ]
  },
  {
   "cell_type": "code",
   "execution_count": null,
   "metadata": {
    "execution": {
     "iopub.execute_input": "2022-06-28T01:22:12.059812Z",
     "iopub.status.busy": "2022-06-28T01:22:12.059207Z",
     "iopub.status.idle": "2022-06-28T01:22:13.678672Z",
     "shell.execute_reply": "2022-06-28T01:22:13.678082Z"
    },
    "id": "T7CzWmFR38ut",
    "pycharm": {
     "name": "#%%\n"
    }
   },
   "outputs": [],
   "source": [
    "model.evaluate(train_ds, return_dict=True)"
   ]
  },
  {
   "cell_type": "markdown",
   "metadata": {
    "id": "SJbn7HZgfosr",
    "pycharm": {
     "name": "#%% md\n"
    }
   },
   "source": [
    "Train the model."
   ]
  },
  {
   "cell_type": "code",
   "execution_count": null,
   "metadata": {
    "execution": {
     "iopub.execute_input": "2022-06-28T01:22:13.682449Z",
     "iopub.status.busy": "2022-06-28T01:22:13.681820Z",
     "iopub.status.idle": "2022-06-28T01:22:13.685673Z",
     "shell.execute_reply": "2022-06-28T01:22:13.685090Z"
    },
    "id": "uQA_rwKEgPjp",
    "pycharm": {
     "name": "#%%\n"
    }
   },
   "outputs": [],
   "source": [
    "callbacks = [\n",
    "    tf.keras.callbacks.ModelCheckpoint(\n",
    "        filepath='./training_checkpoints/ckpt_{epoch}',\n",
    "        save_weights_only=True),\n",
    "    tf.keras.callbacks.EarlyStopping(\n",
    "        monitor='loss',\n",
    "        patience=5,\n",
    "        verbose=1,\n",
    "        restore_best_weights=True),\n",
    "]"
   ]
  },
  {
   "cell_type": "code",
   "execution_count": null,
   "metadata": {
    "execution": {
     "iopub.execute_input": "2022-06-28T01:22:13.688709Z",
     "iopub.status.busy": "2022-06-28T01:22:13.688207Z",
     "iopub.status.idle": "2022-06-28T01:23:19.662097Z",
     "shell.execute_reply": "2022-06-28T01:23:19.661457Z"
    },
    "id": "aLoYY8-XaPFN",
    "pycharm": {
     "name": "#%%\n"
    }
   },
   "outputs": [],
   "source": [
    "%%time\n",
    "epochs = 50\n",
    "\n",
    "history = model.fit(\n",
    "    train_ds,\n",
    "    epochs=epochs,\n",
    "    callbacks=callbacks,\n",
    ")"
   ]
  },
  {
   "cell_type": "code",
   "execution_count": null,
   "metadata": {
    "execution": {
     "iopub.execute_input": "2022-06-28T01:23:19.665366Z",
     "iopub.status.busy": "2022-06-28T01:23:19.664806Z",
     "iopub.status.idle": "2022-06-28T01:23:19.747295Z",
     "shell.execute_reply": "2022-06-28T01:23:19.746753Z"
    },
    "id": "PYBSjgDWiUfT",
    "pycharm": {
     "name": "#%%\n"
    }
   },
   "outputs": [],
   "source": [
    "plt.plot(history.epoch, history.history['loss'], label='total loss')\n",
    "plt.show()"
   ]
  },
  {
   "cell_type": "markdown",
   "metadata": {
    "id": "aPWI94lQ8uQA",
    "pycharm": {
     "name": "#%% md\n"
    }
   },
   "source": [
    "## Generate notes"
   ]
  },
  {
   "cell_type": "markdown",
   "metadata": {
    "id": "Wbaoiy4Hf-n5",
    "pycharm": {
     "name": "#%% md\n"
    }
   },
   "source": [
    "To use the model to generate notes, you will first need to provide a starting sequence of notes. The function below generates one note from a sequence of notes. \n",
    "\n",
    "For note pitch, it draws a sample from the softmax distribution of notes produced by the model, and does not simply pick the note with the highest probability.\n",
    "Always picking the note with the highest probability would lead to repetitive sequences of notes being generated.\n",
    "\n",
    "The `temperature` parameter can be used to control the randomness of notes generated. You can find more details on temperature in [Text generation with an RNN](https://www.tensorflow.org/text/tutorials/text_generation)."
   ]
  },
  {
   "cell_type": "code",
   "execution_count": null,
   "metadata": {
    "execution": {
     "iopub.execute_input": "2022-06-28T01:23:19.750521Z",
     "iopub.status.busy": "2022-06-28T01:23:19.750008Z",
     "iopub.status.idle": "2022-06-28T01:23:19.755706Z",
     "shell.execute_reply": "2022-06-28T01:23:19.755091Z"
    },
    "id": "1mil8ZyJNe1w",
    "pycharm": {
     "name": "#%%\n"
    }
   },
   "outputs": [],
   "source": [
    "def predict_next_note(\n",
    "    notes: np.ndarray, \n",
    "    keras_model: tf.keras.Model, \n",
    "    temperature: float = 1.0) -> int:\n",
    "  \"\"\"Generates a note IDs using a trained sequence model.\"\"\"\n",
    "\n",
    "  assert temperature > 0\n",
    "\n",
    "  # Add batch dimension\n",
    "  inputs = tf.expand_dims(notes, 0)\n",
    "\n",
    "  predictions = model.predict(inputs)\n",
    "  pitch_logits = predictions['pitch']\n",
    "  step = predictions['step']\n",
    "  duration = predictions['duration']\n",
    " \n",
    "  pitch_logits /= temperature\n",
    "  pitch = tf.random.categorical(pitch_logits, num_samples=1)\n",
    "  pitch = tf.squeeze(pitch, axis=-1)\n",
    "  duration = tf.squeeze(duration, axis=-1)\n",
    "  step = tf.squeeze(step, axis=-1)\n",
    "\n",
    "  # `step` and `duration` values should be non-negative\n",
    "  step = tf.maximum(0, step)\n",
    "  duration = tf.maximum(0, duration)\n",
    "\n",
    "  return int(pitch), float(step), float(duration)"
   ]
  },
  {
   "cell_type": "markdown",
   "metadata": {
    "id": "W64K-EX3hxU_",
    "pycharm": {
     "name": "#%% md\n"
    }
   },
   "source": [
    "Now generate some notes. You can play around with temperature and the starting sequence in `next_notes` and see what happens."
   ]
  },
  {
   "cell_type": "code",
   "execution_count": null,
   "metadata": {
    "execution": {
     "iopub.execute_input": "2022-06-28T01:23:19.758480Z",
     "iopub.status.busy": "2022-06-28T01:23:19.758086Z",
     "iopub.status.idle": "2022-06-28T01:23:25.230760Z",
     "shell.execute_reply": "2022-06-28T01:23:25.230135Z"
    },
    "id": "87fPl4auPdR3",
    "pycharm": {
     "name": "#%%\n"
    }
   },
   "outputs": [],
   "source": [
    "temperature = 2.0\n",
    "num_predictions = 120\n",
    "\n",
    "sample_notes = np.stack([raw_notes[key] for key in key_order], axis=1)\n",
    "\n",
    "# The initial sequence of notes; pitch is normalized similar to training\n",
    "# sequences\n",
    "input_notes = (\n",
    "    sample_notes[:seq_length] / np.array([vocab_size, 1, 1]))\n",
    "\n",
    "generated_notes = []\n",
    "prev_start = 0\n",
    "for _ in range(num_predictions):\n",
    "  pitch, step, duration = predict_next_note(input_notes, model, temperature)\n",
    "  start = prev_start + step\n",
    "  end = start + duration\n",
    "  input_note = (pitch, step, duration)\n",
    "  generated_notes.append((*input_note, start, end))\n",
    "  input_notes = np.delete(input_notes, 0, axis=0)\n",
    "  input_notes = np.append(input_notes, np.expand_dims(input_note, 0), axis=0)\n",
    "  prev_start = start\n",
    "\n",
    "generated_notes = pd.DataFrame(\n",
    "    generated_notes, columns=(*key_order, 'start', 'end'))"
   ]
  },
  {
   "cell_type": "code",
   "execution_count": null,
   "metadata": {
    "execution": {
     "iopub.execute_input": "2022-06-28T01:23:25.234093Z",
     "iopub.status.busy": "2022-06-28T01:23:25.233780Z",
     "iopub.status.idle": "2022-06-28T01:23:25.243139Z",
     "shell.execute_reply": "2022-06-28T01:23:25.242593Z"
    },
    "id": "0MK7HmqLuqka",
    "pycharm": {
     "name": "#%%\n"
    }
   },
   "outputs": [],
   "source": [
    "generated_notes.head(10)"
   ]
  },
  {
   "cell_type": "code",
   "execution_count": null,
   "metadata": {
    "execution": {
     "iopub.execute_input": "2022-06-28T01:23:25.245976Z",
     "iopub.status.busy": "2022-06-28T01:23:25.245744Z",
     "iopub.status.idle": "2022-06-28T01:23:25.317997Z",
     "shell.execute_reply": "2022-06-28T01:23:25.317443Z"
    },
    "id": "e9K9KHPaTNnK",
    "pycharm": {
     "name": "#%%\n"
    }
   },
   "outputs": [],
   "source": [
    "out_file = 'output.mid'\n",
    "out_pm = notes_to_midi(\n",
    "    generated_notes, out_file=out_file, instrument_name=instrument_name)\n",
    "display_audio(out_pm)"
   ]
  },
  {
   "cell_type": "markdown",
   "metadata": {
    "id": "u4N9_Y03Kw-3",
    "pycharm": {
     "name": "#%% md\n"
    }
   },
   "source": [
    "You can also download the audio file by adding the two lines below:\n",
    "\n",
    "```\n",
    "from google.colab import files\n",
    "files.download(out_file)\n",
    "```"
   ]
  },
  {
   "cell_type": "markdown",
   "metadata": {
    "id": "trp82gTqskPR",
    "pycharm": {
     "name": "#%% md\n"
    }
   },
   "source": [
    "Visualize the generated notes."
   ]
  },
  {
   "cell_type": "code",
   "execution_count": null,
   "metadata": {
    "execution": {
     "iopub.execute_input": "2022-06-28T01:23:25.321433Z",
     "iopub.status.busy": "2022-06-28T01:23:25.321176Z",
     "iopub.status.idle": "2022-06-28T01:23:25.508189Z",
     "shell.execute_reply": "2022-06-28T01:23:25.507626Z"
    },
    "id": "NlNsxcnhvbcK",
    "pycharm": {
     "name": "#%%\n"
    }
   },
   "outputs": [],
   "source": [
    "plot_piano_roll(generated_notes)"
   ]
  },
  {
   "cell_type": "markdown",
   "metadata": {
    "id": "p5_yA9lvvitC",
    "pycharm": {
     "name": "#%% md\n"
    }
   },
   "source": [
    "Check the distributions of `pitch`, `step` and `duration`."
   ]
  },
  {
   "cell_type": "code",
   "execution_count": null,
   "metadata": {
    "execution": {
     "iopub.execute_input": "2022-06-28T01:23:25.511151Z",
     "iopub.status.busy": "2022-06-28T01:23:25.510901Z",
     "iopub.status.idle": "2022-06-28T01:23:25.798999Z",
     "shell.execute_reply": "2022-06-28T01:23:25.798430Z"
    },
    "id": "j5bco2WVRkAa",
    "pycharm": {
     "name": "#%%\n"
    }
   },
   "outputs": [],
   "source": [
    "plot_distributions(generated_notes)"
   ]
  },
  {
   "cell_type": "markdown",
   "metadata": {
    "id": "iAyxR7Itw3Wh",
    "pycharm": {
     "name": "#%% md\n"
    }
   },
   "source": [
    "In the above plots, you will notice the change in distribution of the note variables.\n",
    "Since there is a feedback loop between the model's outputs and inputs, the model tends to generate similar sequences of outputs to reduce the loss. \n",
    "This is particularly relevant for `step` and `duration`, which uses the MSE loss.\n",
    "For `pitch`, you can increase the randomness by increasing the `temperature` in `predict_next_note`.\n"
   ]
  },
  {
   "cell_type": "markdown",
   "metadata": {
    "id": "Bkfe3GYZEu4l",
    "pycharm": {
     "name": "#%% md\n"
    }
   },
   "source": [
    "## Next steps\n",
    "\n",
    "This tutorial demonstrated the mechanics of using an RNN to generate sequences of notes from a dataset of MIDI files. To learn more, you can visit the closely related [Text generation with an RNN](https://www.tensorflow.org/text/tutorials/text_generation) tutorial, which contains additional diagrams and explanations. \n",
    "\n",
    "One of the alternatives to using RNNs for music generation is using GANs. Rather than generating audio, a GAN-based approach can generate an entire sequence in parallel. The Magenta team has done impressive work on this approach with [GANSynth](https://magenta.tensorflow.org/gansynth). You can also find many wonderful music and art projects and open-source code on [Magenta project website](https://magenta.tensorflow.org/)."
   ]
  }
 ],
 "metadata": {
  "accelerator": "GPU",
  "colab": {
   "collapsed_sections": [],
   "name": "music_generation.ipynb",
   "toc_visible": true
  },
  "kernelspec": {
   "display_name": "Python 3.10.6 64-bit",
   "language": "python",
   "name": "python3"
  },
  "language_info": {
   "codemirror_mode": {
    "name": "ipython",
    "version": 3
   },
   "file_extension": ".py",
   "mimetype": "text/x-python",
   "name": "python",
   "nbconvert_exporter": "python",
   "pygments_lexer": "ipython3",
   "version": "3.10.6"
  },
  "vscode": {
   "interpreter": {
    "hash": "aee8b7b246df8f9039afb4144a1f6fd8d2ca17a180786b69acc140d282b71a49"
   }
  }
 },
 "nbformat": 4,
 "nbformat_minor": 0
}
